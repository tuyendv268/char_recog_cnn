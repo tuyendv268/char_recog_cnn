{
  "nbformat": 4,
  "nbformat_minor": 0,
  "metadata": {
    "colab": {
      "name": "Copy of HACKANONS COLAB 25GB RAM.ipynb",
      "provenance": [],
      "collapsed_sections": [],
      "machine_shape": "hm"
    },
    "kernelspec": {
      "name": "python3",
      "display_name": "Python 3"
    },
    "accelerator": "TPU"
  },
  "cells": [
    {
      "cell_type": "markdown",
      "metadata": {
        "id": "4cbgwZWWfWpp"
      },
      "source": [
        "# New Section"
      ]
    },
    {
      "cell_type": "code",
      "metadata": {
        "id": "pafL7Li0jyXW",
        "colab": {
          "base_uri": "https://localhost:8080/"
        },
        "outputId": "1aa8ccf9-753c-4783-f6c1-59f5e472eaf2"
      },
      "source": [
        "# !unzip /content/drive/MyDrive/emnist-balanced-train.csv.zip\n",
        "# !unzip /content/drive/MyDrive/emnist-balanced-test.csv.zip"
      ],
      "execution_count": 7,
      "outputs": [
        {
          "output_type": "stream",
          "name": "stdout",
          "text": [
            "Archive:  /content/drive/MyDrive/emnist-balanced-train.csv.zip\n",
            "replace emnist-balanced-train.csv? [y]es, [n]o, [A]ll, [N]one, [r]ename: Archive:  /content/drive/MyDrive/emnist-balanced-test.csv.zip\n",
            "  inflating: emnist-balanced-test.csv  \n"
          ]
        }
      ]
    },
    {
      "cell_type": "code",
      "source": [
        "import pandas as pd \n",
        "import numpy as np\n",
        "import matplotlib.pyplot as plt"
      ],
      "metadata": {
        "id": "3IgeoXmONnx6"
      },
      "execution_count": 1,
      "outputs": []
    },
    {
      "cell_type": "code",
      "source": [
        "data_train = pd.read_csv(\"/content/drive/MyDrive/NMAI/emnist-balanced-train.csv\").astype('float32')\n",
        "data_test = pd.read_csv(\"/content/drive/MyDrive/NMAI/emnist-balanced-test.csv\").astype('float32')"
      ],
      "metadata": {
        "id": "MaeL7zm0NS96"
      },
      "execution_count": 2,
      "outputs": []
    },
    {
      "cell_type": "code",
      "source": [
        "data_train['45']"
      ],
      "metadata": {
        "colab": {
          "base_uri": "https://localhost:8080/"
        },
        "id": "ctXnD_IkQzK9",
        "outputId": "668413cf-5d9b-4e2b-d4b7-a47ff327df72"
      },
      "execution_count": 3,
      "outputs": [
        {
          "output_type": "execute_result",
          "data": {
            "text/plain": [
              "0         36.0\n",
              "1         43.0\n",
              "2         15.0\n",
              "3          4.0\n",
              "4         42.0\n",
              "          ... \n",
              "112794    22.0\n",
              "112795    17.0\n",
              "112796    23.0\n",
              "112797    31.0\n",
              "112798     8.0\n",
              "Name: 45, Length: 112799, dtype: float32"
            ]
          },
          "metadata": {},
          "execution_count": 3
        }
      ]
    },
    {
      "cell_type": "code",
      "source": [
        "data_train.rename(columns={'45':'label'}, inplace=True)\n",
        "data_test.rename(columns={'41':'label'}, inplace=True)"
      ],
      "metadata": {
        "id": "gnYvjm8XOkZr"
      },
      "execution_count": 6,
      "outputs": []
    },
    {
      "cell_type": "code",
      "source": [
        "X_train = data_train.drop('label',axis = 1)\n",
        "y_train = data_train['label']\n",
        "\n",
        "X_test = data_test.drop('label',axis = 1)\n",
        "y_test = data_test['label']"
      ],
      "metadata": {
        "id": "Vt8Z4wtMOstz"
      },
      "execution_count": 7,
      "outputs": []
    },
    {
      "cell_type": "code",
      "source": [
        "label_map = pd.read_csv(\"/content/drive/MyDrive/NMAI/mapping.txt\", \n",
        "                        delimiter = ' ', \n",
        "                        index_col=0, \n",
        "                        header=None, \n",
        "                        squeeze=True)"
      ],
      "metadata": {
        "id": "qKuUpHhmTsJD"
      },
      "execution_count": 8,
      "outputs": []
    },
    {
      "cell_type": "code",
      "source": [
        "label_dictionary = {}\n",
        "for index, label in enumerate(label_map):\n",
        "    label_dictionary[index] = chr(label)"
      ],
      "metadata": {
        "id": "8IcouxkOWINJ"
      },
      "execution_count": 9,
      "outputs": []
    },
    {
      "cell_type": "code",
      "source": [
        "label_dictionary"
      ],
      "metadata": {
        "id": "DFSlWLT1X4Gz"
      },
      "execution_count": null,
      "outputs": []
    },
    {
      "cell_type": "code",
      "source": [
        "data_train['label'] = data_train['label'].map(label_dictionary)\n",
        "label_size = data_train.groupby('label').size()\n",
        "label_size.plot.barh(figsize=(10,10))"
      ],
      "metadata": {
        "colab": {
          "base_uri": "https://localhost:8080/",
          "height": 610
        },
        "id": "5FABemWqWfo3",
        "outputId": "03f82e5a-dea1-461a-f5d5-746f5055a5e0"
      },
      "execution_count": 10,
      "outputs": [
        {
          "output_type": "execute_result",
          "data": {
            "text/plain": [
              "<matplotlib.axes._subplots.AxesSubplot at 0x7f3c58458610>"
            ]
          },
          "metadata": {},
          "execution_count": 10
        },
        {
          "output_type": "display_data",
          "data": {
            "image/png": "[encoded data removed]",
            "text/plain": [
              "<Figure size 720x720 with 1 Axes>"
            ]
          },
          "metadata": {
            "needs_background": "light"
          }
        }
      ]
    },
    {
      "cell_type": "code",
      "source": [
        "data_test['label'] = data_test['label'].map(label_dictionary)\n",
        "label_size = data_test.groupby('label').size()\n",
        "label_size.plot.barh(figsize=(10,10))"
      ],
      "metadata": {
        "colab": {
          "base_uri": "https://localhost:8080/",
          "height": 610
        },
        "id": "muKQ2gEbbF0s",
        "outputId": "69308ff0-d9c8-493c-ffb4-75efdee7a600"
      },
      "execution_count": 11,
      "outputs": [
        {
          "output_type": "execute_result",
          "data": {
            "text/plain": [
              "<matplotlib.axes._subplots.AxesSubplot at 0x7f3c5865ce50>"
            ]
          },
          "metadata": {},
          "execution_count": 11
        },
        {
          "output_type": "display_data",
          "data": {
            "image/png": "[encoded data removed]",
            "text/plain": [
              "<Figure size 720x720 with 1 Axes>"
            ]
          },
          "metadata": {
            "needs_background": "light"
          }
        }
      ]
    },
    {
      "cell_type": "code",
      "source": [
        "X_train = X_train.values\n",
        "y_train = y_train.values\n",
        "X_test = X_test.values\n",
        "y_test = y_test.values"
      ],
      "metadata": {
        "id": "JwPZ6JogYw8k"
      },
      "execution_count": 12,
      "outputs": []
    },
    {
      "cell_type": "code",
      "source": [
        "from keras.models import Sequential\n",
        "from keras.layers import Dense, Dropout, BatchNormalization, Flatten\n",
        "from keras.layers import Conv2D, MaxPooling2D\n",
        "from keras.utils import np_utils"
      ],
      "metadata": {
        "id": "ls_1NFs5aFgW"
      },
      "execution_count": 13,
      "outputs": []
    },
    {
      "cell_type": "code",
      "source": [
        "X_train = X_train.reshape(X_train.shape[0], 28, 28, 1)\n",
        "X_test = X_test.reshape(X_test.shape[0], 28, 28, 1)\n",
        "\n",
        "Y_train = np_utils.to_categorical([int(x) for x in y_train], 47)\n",
        "Y_test = np_utils.to_categorical([int(x) for x in y_test], 47)"
      ],
      "metadata": {
        "id": "ouV-Y48PZbOP"
      },
      "execution_count": 14,
      "outputs": []
    },
    {
      "cell_type": "code",
      "source": [
        "model = Sequential()\n",
        "model.add(Conv2D(32,kernel_size=3,padding='same',activation= 'relu',\n",
        "                     input_shape=(28,28,1)))\n",
        "# model.add(MaxPooling2D(pool_size = (2,2)))\n",
        "model.add(BatchNormalization())\n",
        "model.add(Conv2D(64,kernel_size=3,padding='same',activation= 'relu'))\n",
        "# model.add(MaxPooling2D(pool_size = (2,2)))\n",
        "model.add(BatchNormalization())\n",
        "model.add(Conv2D(128,kernel_size=3,padding='same',activation= 'relu'))\n",
        "# model.add(MaxPooling2D(pool_size = (2,2)))\n",
        "model.add(BatchNormalization())\n",
        "# model.add(Conv2D(256,kernel_size=3,padding='same',activation= 'relu'))\n",
        "# model.add(MaxPooling2D(pool_size = (2,2)))\n",
        "# model.add(BatchNormalization())\n",
        "model.add(Flatten())\n",
        "model.add(Dense(512, activation= 'relu'))\n",
        "model.add(Dropout(0.5))\n",
        "model.add(Dense(128, activation= 'relu'))\n",
        "model.add(Dense(units = 47, activation = 'softmax'))\n",
        "model.compile(optimizer=\"adam\", loss=\"categorical_crossentropy\", metrics=[\"accuracy\"])"
      ],
      "metadata": {
        "id": "YBEsNolJaNsK"
      },
      "execution_count": 41,
      "outputs": []
    },
    {
      "cell_type": "code",
      "source": [
        "H = model.fit(X_train, Y_train, validation_split=0.1, batch_size=32, epochs=10, verbose=1)"
      ],
      "metadata": {
        "colab": {
          "base_uri": "https://localhost:8080/"
        },
        "id": "cwSJr8TxfR28",
        "outputId": "1bd5669d-a50a-455a-ab10-631b25e541c0"
      },
      "execution_count": null,
      "outputs": [
        {
          "output_type": "stream",
          "name": "stdout",
          "text": [
            "Epoch 1/10\n",
            "3173/3173 [==============================] - 1441s 454ms/step - loss: 2.0832 - accuracy: 0.4507 - val_loss: 0.6831 - val_accuracy: 0.7758\n",
            "Epoch 2/10\n",
            "3173/3173 [==============================] - 1433s 452ms/step - loss: 0.7801 - accuracy: 0.7473 - val_loss: 0.4672 - val_accuracy: 0.8407\n",
            "Epoch 3/10\n",
            "3173/3173 [==============================] - 1436s 453ms/step - loss: 0.5418 - accuracy: 0.8183 - val_loss: 0.4183 - val_accuracy: 0.8521\n",
            "Epoch 4/10\n",
            "3173/3173 [==============================] - 1436s 452ms/step - loss: 0.4513 - accuracy: 0.8441 - val_loss: 0.3991 - val_accuracy: 0.8589\n",
            "Epoch 5/10\n",
            "1241/3173 [==========>...................] - ETA: 14:11 - loss: 0.3917 - accuracy: 0.8634"
          ]
        }
      ]
    },
    {
      "cell_type": "code",
      "source": [
        "model.save('model3_no_maxpooling.h5')\n",
        "model.save_weights('weight3_no_maxpooling.h5')\n",
        "np.save('history_no_maxpooling.npy',H.history)"
      ],
      "metadata": {
        "id": "7GySznahfnLz"
      },
      "execution_count": 39,
      "outputs": []
    },
    {
      "cell_type": "code",
      "source": [
        "def plotgraph(epochs, acc, val_acc):\n",
        "    # Plot training & validation accuracy values\n",
        "    plt.plot(epochs, acc, 'b')\n",
        "    plt.plot(epochs, val_acc, 'r')\n",
        "    plt.title('Model accuracy')\n",
        "    plt.ylabel('Accuracy')\n",
        "    plt.xlabel('Epoch')\n",
        "    plt.legend(['Train', 'Val'], loc='upper left')\n",
        "    plt.show()\n",
        "    \n",
        "acc = H.history['accuracy']\n",
        "val_acc = H.history['val_accuracy']\n",
        "loss = H.history['loss']\n",
        "val_loss = H.history['val_loss']\n",
        "epochs = range(1,len(acc)+1)"
      ],
      "metadata": {
        "id": "Kr39mZi_jpVn"
      },
      "execution_count": 35,
      "outputs": []
    },
    {
      "cell_type": "code",
      "source": [
        "plotgraph(epochs, acc, val_acc)"
      ],
      "metadata": {
        "colab": {
          "base_uri": "https://localhost:8080/",
          "height": 295
        },
        "id": "3t9bc_rhkGzQ",
        "outputId": "18550fec-6798-47ca-ef69-abe92291ba28"
      },
      "execution_count": 40,
      "outputs": [
        {
          "output_type": "display_data",
          "data": {
            "image/png": "[encoded data removed]",
            "text/plain": [
              "<Figure size 432x288 with 1 Axes>"
            ]
          },
          "metadata": {
            "needs_background": "light"
          }
        }
      ]
    },
    {
      "cell_type": "code",
      "source": [
        "score = model.evaluate(X_test, y_test, verbose=1)"
      ],
      "metadata": {
        "id": "xQuMup3iBktB"
      },
      "execution_count": null,
      "outputs": []
    }
  ]
}