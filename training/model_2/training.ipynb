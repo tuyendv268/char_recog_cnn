{
  "nbformat": 4,
  "nbformat_minor": 0,
  "metadata": {
    "colab": {
      "name": "training.ipynb",
      "provenance": [],
      "collapsed_sections": [],
      "machine_shape": "hm"
    },
    "kernelspec": {
      "name": "python3",
      "display_name": "Python 3"
    },
    "accelerator": "TPU"
  },
  "cells": [
    {
      "cell_type": "markdown",
      "metadata": {
        "id": "4cbgwZWWfWpp"
      },
      "source": [
        "# New Section"
      ]
    },
    {
      "cell_type": "code",
      "source": [
        "from google.colab import drive\n",
        "drive.mount('/content/drive')"
      ],
      "metadata": {
        "colab": {
          "base_uri": "https://localhost:8080/"
        },
        "id": "arKnFzzudeyK",
        "outputId": "fa45e905-7fd1-4721-f7f7-fd332a0ffdf5"
      },
      "execution_count": null,
      "outputs": [
        {
          "output_type": "stream",
          "name": "stdout",
          "text": [
            "Mounted at /content/drive\n"
          ]
        }
      ]
    },
    {
      "cell_type": "code",
      "metadata": {
        "id": "pafL7Li0jyXW",
        "colab": {
          "base_uri": "https://localhost:8080/"
        },
        "outputId": "95bc458d-bae1-413b-fa6b-17bacf7f0587"
      },
      "source": [
        "# !unzip /content/drive/MyDrive/School/20211/AI/Project/data/emnist/emnist-balanced-train.csv.zip\n",
        "# !unzip /content/drive/MyDrive/School/20211/AI/Project/data/emnist/emnist-balanced-test.csv.zip"
      ],
      "execution_count": null,
      "outputs": [
        {
          "output_type": "stream",
          "name": "stdout",
          "text": [
            "Archive:  /content/drive/MyDrive/School/20211/AI/Project/data/emnist/emnist-balanced-train.csv.zip\n",
            "  inflating: emnist-balanced-train.csv  \n",
            "Archive:  /content/drive/MyDrive/School/20211/AI/Project/data/emnist/emnist-balanced-test.csv.zip\n",
            "  inflating: emnist-balanced-test.csv  \n"
          ]
        }
      ]
    },
    {
      "cell_type": "code",
      "source": [
        "import pandas as pd \n",
        "import numpy as np\n",
        "import matplotlib.pyplot as plt"
      ],
      "metadata": {
        "id": "3IgeoXmONnx6"
      },
      "execution_count": null,
      "outputs": []
    },
    {
      "cell_type": "code",
      "source": [
        "data_train = pd.read_csv(\"/content/drive/MyDrive/School/20211/AI/Project/data/emnist/emnist-balanced-test.csv/emnist-balanced-train.csv\").astype('float32')\n",
        "data_test = pd.read_csv(\"/content/drive/MyDrive/School/20211/AI/Project/data/emnist/emnist-balanced-test.csv/emnist-balanced-test.csv\").astype('float32')"
      ],
      "metadata": {
        "id": "MaeL7zm0NS96"
      },
      "execution_count": null,
      "outputs": []
    },
    {
      "cell_type": "code",
      "source": [
        "data_train['45']"
      ],
      "metadata": {
        "colab": {
          "base_uri": "https://localhost:8080/"
        },
        "id": "ctXnD_IkQzK9",
        "outputId": "eef66998-ad57-46fd-ef0c-70fdeede8e72"
      },
      "execution_count": null,
      "outputs": [
        {
          "output_type": "execute_result",
          "data": {
            "text/plain": [
              "0         36.0\n",
              "1         43.0\n",
              "2         15.0\n",
              "3          4.0\n",
              "4         42.0\n",
              "          ... \n",
              "112794    22.0\n",
              "112795    17.0\n",
              "112796    23.0\n",
              "112797    31.0\n",
              "112798     8.0\n",
              "Name: 45, Length: 112799, dtype: float32"
            ]
          },
          "metadata": {},
          "execution_count": 5
        }
      ]
    },
    {
      "cell_type": "code",
      "source": [
        "data_train.rename(columns={'45':'label'}, inplace=True)\n",
        "data_test.rename(columns={'41':'label'}, inplace=True)"
      ],
      "metadata": {
        "id": "gnYvjm8XOkZr"
      },
      "execution_count": null,
      "outputs": []
    },
    {
      "cell_type": "code",
      "source": [
        "X_train = data_train.drop('label',axis = 1)\n",
        "y_train = data_train['label']\n",
        "\n",
        "X_test = data_test.drop('label',axis = 1)\n",
        "y_test = data_test['label']"
      ],
      "metadata": {
        "id": "Vt8Z4wtMOstz"
      },
      "execution_count": null,
      "outputs": []
    },
    {
      "cell_type": "code",
      "source": [
        "label_map = pd.read_csv(\"/content/drive/MyDrive/School/20211/AI/Project/data/emnist/emnist-balanced-test.csv/emnist-balanced-mapping.txt\", \n",
        "                        delimiter = ' ', \n",
        "                        index_col=0, \n",
        "                        header=None, \n",
        "                        squeeze=True)"
      ],
      "metadata": {
        "id": "qKuUpHhmTsJD"
      },
      "execution_count": null,
      "outputs": []
    },
    {
      "cell_type": "code",
      "source": [
        "label_dictionary = {}\n",
        "for index, label in enumerate(label_map):\n",
        "    label_dictionary[index] = chr(label)"
      ],
      "metadata": {
        "id": "8IcouxkOWINJ"
      },
      "execution_count": null,
      "outputs": []
    },
    {
      "cell_type": "code",
      "source": [
        "label_dictionary"
      ],
      "metadata": {
        "id": "DFSlWLT1X4Gz",
        "colab": {
          "base_uri": "https://localhost:8080/"
        },
        "outputId": "a891e904-eeed-4507-ad49-eadb740b6699"
      },
      "execution_count": null,
      "outputs": [
        {
          "output_type": "execute_result",
          "data": {
            "text/plain": [
              "{0: '0',\n",
              " 1: '1',\n",
              " 2: '2',\n",
              " 3: '3',\n",
              " 4: '4',\n",
              " 5: '5',\n",
              " 6: '6',\n",
              " 7: '7',\n",
              " 8: '8',\n",
              " 9: '9',\n",
              " 10: 'A',\n",
              " 11: 'B',\n",
              " 12: 'C',\n",
              " 13: 'D',\n",
              " 14: 'E',\n",
              " 15: 'F',\n",
              " 16: 'G',\n",
              " 17: 'H',\n",
              " 18: 'I',\n",
              " 19: 'J',\n",
              " 20: 'K',\n",
              " 21: 'L',\n",
              " 22: 'M',\n",
              " 23: 'N',\n",
              " 24: 'O',\n",
              " 25: 'P',\n",
              " 26: 'Q',\n",
              " 27: 'R',\n",
              " 28: 'S',\n",
              " 29: 'T',\n",
              " 30: 'U',\n",
              " 31: 'V',\n",
              " 32: 'W',\n",
              " 33: 'X',\n",
              " 34: 'Y',\n",
              " 35: 'Z',\n",
              " 36: 'a',\n",
              " 37: 'b',\n",
              " 38: 'd',\n",
              " 39: 'e',\n",
              " 40: 'f',\n",
              " 41: 'g',\n",
              " 42: 'h',\n",
              " 43: 'n',\n",
              " 44: 'q',\n",
              " 45: 'r',\n",
              " 46: 't'}"
            ]
          },
          "metadata": {},
          "execution_count": 12
        }
      ]
    },
    {
      "cell_type": "code",
      "source": [
        "data_train['label'] = data_train['label'].map(label_dictionary)\n",
        "label_size = data_train.groupby('label').size()\n",
        "label_size.plot.barh(figsize=(10,10))"
      ],
      "metadata": {
        "colab": {
          "base_uri": "https://localhost:8080/",
          "height": 610
        },
        "id": "5FABemWqWfo3",
        "outputId": "01f2321c-ba1c-4879-d836-02926c86ff71"
      },
      "execution_count": null,
      "outputs": [
        {
          "output_type": "execute_result",
          "data": {
            "text/plain": [
              "<matplotlib.axes._subplots.AxesSubplot at 0x7fcb44c3f350>"
            ]
          },
          "metadata": {},
          "execution_count": 13
        },
        {
          "output_type": "display_data",
          "data": {
            "image/png": "[encoded data removed]",
            "text/plain": [
              "<Figure size 720x720 with 1 Axes>"
            ]
          },
          "metadata": {
            "needs_background": "light"
          }
        }
      ]
    },
    {
      "cell_type": "code",
      "source": [
        "data_test['label'] = data_test['label'].map(label_dictionary)\n",
        "label_size = data_test.groupby('label').size()\n",
        "label_size.plot.barh(figsize=(10,10))"
      ],
      "metadata": {
        "colab": {
          "base_uri": "https://localhost:8080/",
          "height": 610
        },
        "id": "muKQ2gEbbF0s",
        "outputId": "430e9325-5848-4b5c-8766-c2a0ac6444d4"
      },
      "execution_count": null,
      "outputs": [
        {
          "output_type": "execute_result",
          "data": {
            "text/plain": [
              "<matplotlib.axes._subplots.AxesSubplot at 0x7fcb44cbf750>"
            ]
          },
          "metadata": {},
          "execution_count": 14
        },
        {
          "output_type": "display_data",
          "data": {
            "image/png": "[encoded data removed]",
            "text/plain": [
              "<Figure size 720x720 with 1 Axes>"
            ]
          },
          "metadata": {
            "needs_background": "light"
          }
        }
      ]
    },
    {
      "cell_type": "code",
      "source": [
        "X_train = X_train.values\n",
        "y_train = y_train.values\n",
        "X_test = X_test.values\n",
        "y_test = y_test.values"
      ],
      "metadata": {
        "id": "JwPZ6JogYw8k"
      },
      "execution_count": null,
      "outputs": []
    },
    {
      "cell_type": "code",
      "source": [
        "X_train = X_train.reshape(X_train.shape[0], 28, 28, 1)\n",
        "X_test = X_test.reshape(X_test.shape[0], 28, 28, 1)\n",
        "\n",
        "Y_train = np_utils.to_categorical([int(x) for x in y_train], 47)\n",
        "Y_test = np_utils.to_categorical([int(x) for x in y_test], 47)"
      ],
      "metadata": {
        "id": "ouV-Y48PZbOP"
      },
      "execution_count": null,
      "outputs": []
    },
    {
      "cell_type": "code",
      "source": [
        "X_train = X_train/255.\n",
        "X_test = X_test/255."
      ],
      "metadata": {
        "id": "dFM9vx4okOqk"
      },
      "execution_count": null,
      "outputs": []
    },
    {
      "cell_type": "code",
      "source": [
        "import cv2 \n",
        "import os \n",
        "import sys \n",
        "import numpy as np \n",
        "from sklearn.model_selection import train_test_split \n",
        "import tensorflow as tf \n",
        "from tensorflow.keras.layers import Input, Add, Dense, Activation, ZeroPadding2D, BatchNormalization, Flatten, Conv2D, AveragePooling2D, MaxPooling2D, GlobalMaxPooling2D, Dropout, ReLU\n",
        "from tensorflow.keras.preprocessing import image \n",
        "from tensorflow.keras.models import Model, load_model\n",
        "from tensorflow.keras.initializers import random_uniform, glorot_uniform, constant, identity \n",
        "from matplotlib.pyplot import imshow \n",
        "import matplotlib.pyplot as plt \n",
        "from tensorflow.keras.datasets import mnist \n",
        "from sklearn.utils import shuffle"
      ],
      "metadata": {
        "id": "8Eh0x5AEf-5L"
      },
      "execution_count": null,
      "outputs": []
    },
    {
      "cell_type": "code",
      "source": [
        "def Model_01(input_shape = (28, 28, 1), classes = 47):\n",
        "    X_input = Input(input_shape) \n",
        "\n",
        "    X = Conv2D(filters = 16, kernel_size=(3,3), strides= (1,1))(X_input)\n",
        "    # for i in range(16): \n",
        "    X = ReLU()(X) \n",
        "    X = MaxPooling2D(pool_size=(2,2), strides = 2)(X) \n",
        "    X = Conv2D(filters= 32, kernel_size=(5,5), strides= (1,1))(X) \n",
        "    # for i in range(32): \n",
        "    X = ReLU()(X) \n",
        "    X = MaxPooling2D(pool_size=(2,2), strides = 2)(X) \n",
        "    \n",
        "    X = Conv2D(filters= 64, kernel_size=(3,3), strides= (1,1))(X)\n",
        "    X = Flatten()(X) \n",
        "    X = Dense(128, activation='relu')(X)\n",
        "    X = Dropout(0.3)(X)\n",
        "    X = Dense(128, activation='relu')(X) \n",
        "\n",
        "    X = Dense(classes, activation='softmax', kernel_initializer=glorot_uniform())(X)\n",
        "\n",
        "    model = Model(inputs = X_input, outputs = X) \n",
        "\n",
        "    return model "
      ],
      "metadata": {
        "id": "YBEsNolJaNsK"
      },
      "execution_count": null,
      "outputs": []
    },
    {
      "cell_type": "code",
      "source": [
        "model = Model_01()\n",
        "model.compile(optimizer=\"adam\", loss= \"categorical_crossentropy\", metrics=[\"accuracy\"])"
      ],
      "metadata": {
        "id": "NRIv_hZ9gBb7"
      },
      "execution_count": null,
      "outputs": []
    },
    {
      "cell_type": "code",
      "source": [
        "model.summary()"
      ],
      "metadata": {
        "id": "fhIDuTjst_b4",
        "outputId": "ad37d541-c58c-4595-c6fe-87cf67c2a879",
        "colab": {
          "base_uri": "https://localhost:8080/"
        }
      },
      "execution_count": null,
      "outputs": [
        {
          "output_type": "stream",
          "name": "stdout",
          "text": [
            "Model: \"model_3\"\n",
            "_________________________________________________________________\n",
            " Layer (type)                Output Shape              Param #   \n",
            "=================================================================\n",
            " input_4 (InputLayer)        [(None, 28, 28, 1)]       0         \n",
            "                                                                 \n",
            " conv2d_9 (Conv2D)           (None, 26, 26, 16)        160       \n",
            "                                                                 \n",
            " re_lu_6 (ReLU)              (None, 26, 26, 16)        0         \n",
            "                                                                 \n",
            " max_pooling2d_6 (MaxPooling  (None, 13, 13, 16)       0         \n",
            " 2D)                                                             \n",
            "                                                                 \n",
            " conv2d_10 (Conv2D)          (None, 9, 9, 32)          12832     \n",
            "                                                                 \n",
            " re_lu_7 (ReLU)              (None, 9, 9, 32)          0         \n",
            "                                                                 \n",
            " max_pooling2d_7 (MaxPooling  (None, 4, 4, 32)         0         \n",
            " 2D)                                                             \n",
            "                                                                 \n",
            " conv2d_11 (Conv2D)          (None, 2, 2, 64)          18496     \n",
            "                                                                 \n",
            " flatten_3 (Flatten)         (None, 256)               0         \n",
            "                                                                 \n",
            " dense_9 (Dense)             (None, 128)               32896     \n",
            "                                                                 \n",
            " dropout_4 (Dropout)         (None, 128)               0         \n",
            "                                                                 \n",
            " dense_10 (Dense)            (None, 128)               16512     \n",
            "                                                                 \n",
            " dense_11 (Dense)            (None, 47)                6063      \n",
            "                                                                 \n",
            "=================================================================\n",
            "Total params: 86,959\n",
            "Trainable params: 86,959\n",
            "Non-trainable params: 0\n",
            "_________________________________________________________________\n"
          ]
        }
      ]
    },
    {
      "cell_type": "code",
      "source": [
        "H = model.fit(X_train, Y_train, validation_split=0.1, batch_size=32, epochs=10, verbose=1)"
      ],
      "metadata": {
        "colab": {
          "base_uri": "https://localhost:8080/"
        },
        "id": "cwSJr8TxfR28",
        "outputId": "adcc110f-a385-417e-c908-386601256aeb"
      },
      "execution_count": null,
      "outputs": [
        {
          "output_type": "stream",
          "name": "stdout",
          "text": [
            "Epoch 1/10\n",
            "3173/3173 [==============================] - 72s 22ms/step - loss: 0.8934 - accuracy: 0.7197 - val_loss: 0.4898 - val_accuracy: 0.8298\n",
            "Epoch 2/10\n",
            "3173/3173 [==============================] - 70s 22ms/step - loss: 0.5191 - accuracy: 0.8213 - val_loss: 0.4209 - val_accuracy: 0.8491\n",
            "Epoch 3/10\n",
            "3173/3173 [==============================] - 70s 22ms/step - loss: 0.4579 - accuracy: 0.8406 - val_loss: 0.4096 - val_accuracy: 0.8462\n",
            "Epoch 4/10\n",
            "3173/3173 [==============================] - 70s 22ms/step - loss: 0.4268 - accuracy: 0.8502 - val_loss: 0.3913 - val_accuracy: 0.8572\n",
            "Epoch 5/10\n",
            "3173/3173 [==============================] - 70s 22ms/step - loss: 0.4057 - accuracy: 0.8566 - val_loss: 0.3738 - val_accuracy: 0.8614\n",
            "Epoch 6/10\n",
            "3173/3173 [==============================] - 70s 22ms/step - loss: 0.3874 - accuracy: 0.8607 - val_loss: 0.3869 - val_accuracy: 0.8586\n",
            "Epoch 7/10\n",
            "3173/3173 [==============================] - 70s 22ms/step - loss: 0.3758 - accuracy: 0.8641 - val_loss: 0.3678 - val_accuracy: 0.8670\n",
            "Epoch 8/10\n",
            "3173/3173 [==============================] - 70s 22ms/step - loss: 0.3700 - accuracy: 0.8665 - val_loss: 0.3800 - val_accuracy: 0.8609\n",
            "Epoch 9/10\n",
            "3173/3173 [==============================] - 80s 25ms/step - loss: 0.3574 - accuracy: 0.8696 - val_loss: 0.3671 - val_accuracy: 0.8653\n",
            "Epoch 10/10\n",
            "3173/3173 [==============================] - 72s 23ms/step - loss: 0.3540 - accuracy: 0.8706 - val_loss: 0.3717 - val_accuracy: 0.8649\n"
          ]
        }
      ]
    },
    {
      "cell_type": "code",
      "source": [
        "model.save('model01_tanminh_chia255_codropout.h5')\n",
        "model.save_weights('weights_model01_tanminh_chia255_codropout.h5')\n",
        "np.save('history_model01_tanminh_chia255_codropout.npy',H.history)"
      ],
      "metadata": {
        "id": "7GySznahfnLz"
      },
      "execution_count": null,
      "outputs": []
    },
    {
      "cell_type": "code",
      "source": [
        "def plotgraph(epochs, acc, val_acc):\n",
        "    # Plot training & validation accuracy values\n",
        "    plt.plot(epochs, acc, 'b')\n",
        "    plt.plot(epochs, val_acc, 'r')\n",
        "    plt.title('Model accuracy')\n",
        "    plt.ylabel('Accuracy')\n",
        "    plt.xlabel('Epoch')\n",
        "    plt.legend(['Train', 'Val'], loc='upper left')\n",
        "    plt.show()\n",
        "    \n",
        "acc = H.history['accuracy']\n",
        "val_acc = H.history['val_accuracy']\n",
        "loss = H.history['loss']\n",
        "val_loss = H.history['val_loss']\n",
        "epochs = range(1,len(acc)+1)"
      ],
      "metadata": {
        "id": "Kr39mZi_jpVn"
      },
      "execution_count": null,
      "outputs": []
    },
    {
      "cell_type": "code",
      "source": [
        "plotgraph(epochs, acc, val_acc)"
      ],
      "metadata": {
        "colab": {
          "base_uri": "https://localhost:8080/",
          "height": 295
        },
        "id": "3t9bc_rhkGzQ",
        "outputId": "380e8610-463b-4df6-e9c8-ed8bc7385110"
      },
      "execution_count": null,
      "outputs": [
        {
          "output_type": "display_data",
          "data": {
            "image/png": "[encoded data removed]",
            "text/plain": [
              "<Figure size 432x288 with 1 Axes>"
            ]
          },
          "metadata": {
            "needs_background": "light"
          }
        }
      ]
    },
    {
      "cell_type": "code",
      "source": [
        "score = model.evaluate(X_test, Y_test, verbose=1)"
      ],
      "metadata": {
        "id": "xQuMup3iBktB",
        "colab": {
          "base_uri": "https://localhost:8080/"
        },
        "outputId": "f6d7f538-8e6f-48cb-c97d-8ef70b75ffca"
      },
      "execution_count": null,
      "outputs": [
        {
          "output_type": "stream",
          "name": "stdout",
          "text": [
            "588/588 [==============================] - 5s 8ms/step - loss: 0.3695 - accuracy: 0.8722\n"
          ]
        }
      ]
    }
  ]
}